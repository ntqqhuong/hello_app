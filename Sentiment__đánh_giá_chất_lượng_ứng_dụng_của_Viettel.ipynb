{
  "nbformat": 4,
  "nbformat_minor": 0,
  "metadata": {
    "colab": {
      "provenance": [],
      "gpuType": "T4"
    },
    "kernelspec": {
      "name": "python3",
      "display_name": "Python 3"
    },
    "language_info": {
      "name": "python"
    },
    "accelerator": "GPU"
  },
  "cells": [
    {
      "cell_type": "code",
      "source": [
        "pip install pyvi"
      ],
      "metadata": {
        "id": "arNYseR99WBM",
        "colab": {
          "base_uri": "https://localhost:8080/"
        },
        "outputId": "a9036996-cc3f-4708-cb90-15641ff50f79"
      },
      "execution_count": 8,
      "outputs": [
        {
          "output_type": "stream",
          "name": "stdout",
          "text": [
            "Requirement already satisfied: pyvi in /usr/local/lib/python3.10/dist-packages (0.1.1)\n",
            "Requirement already satisfied: scikit-learn in /usr/local/lib/python3.10/dist-packages (from pyvi) (1.2.2)\n",
            "Requirement already satisfied: sklearn-crfsuite in /usr/local/lib/python3.10/dist-packages (from pyvi) (0.3.6)\n",
            "Requirement already satisfied: numpy>=1.17.3 in /usr/local/lib/python3.10/dist-packages (from scikit-learn->pyvi) (1.25.2)\n",
            "Requirement already satisfied: scipy>=1.3.2 in /usr/local/lib/python3.10/dist-packages (from scikit-learn->pyvi) (1.11.4)\n",
            "Requirement already satisfied: joblib>=1.1.1 in /usr/local/lib/python3.10/dist-packages (from scikit-learn->pyvi) (1.3.2)\n",
            "Requirement already satisfied: threadpoolctl>=2.0.0 in /usr/local/lib/python3.10/dist-packages (from scikit-learn->pyvi) (3.4.0)\n",
            "Requirement already satisfied: python-crfsuite>=0.8.3 in /usr/local/lib/python3.10/dist-packages (from sklearn-crfsuite->pyvi) (0.9.10)\n",
            "Requirement already satisfied: six in /usr/local/lib/python3.10/dist-packages (from sklearn-crfsuite->pyvi) (1.16.0)\n",
            "Requirement already satisfied: tabulate in /usr/local/lib/python3.10/dist-packages (from sklearn-crfsuite->pyvi) (0.9.0)\n",
            "Requirement already satisfied: tqdm>=2.0 in /usr/local/lib/python3.10/dist-packages (from sklearn-crfsuite->pyvi) (4.66.2)\n"
          ]
        }
      ]
    },
    {
      "cell_type": "code",
      "execution_count": 9,
      "metadata": {
        "id": "-waeru1e7Ja8"
      },
      "outputs": [],
      "source": [
        "import numpy as py\n",
        "import pandas as pd\n",
        "import tensorflow as tf\n",
        "import pickle\n",
        "import matplotlib.pyplot as plt\n",
        "from sklearn.model_selection import train_test_split\n",
        "from tensorflow.keras.layers import Embedding, Dense, Dropout, LSTM, GRU, Input, GlobalMaxPooling1D, LayerNormalization\n",
        "from tensorflow.keras.optimizers import Adam, SGD\n",
        "from tensorflow.keras import Sequential\n",
        "from tensorflow.keras.models import load_model\n",
        "from tensorflow.keras. preprocessing.text import Tokenizer\n",
        "from tensorflow.keras.preprocessing.sequence import pad_sequences\n",
        "from pyvi import ViTokenizer\n",
        "from pyvi import ViUtils"
      ]
    },
    {
      "cell_type": "code",
      "source": [
        "from google.colab import drive\n",
        "drive.mount('/content/drive')"
      ],
      "metadata": {
        "id": "_NiUUAXT9K6f",
        "colab": {
          "base_uri": "https://localhost:8080/"
        },
        "outputId": "ffd8a56e-c68b-4c08-95a5-8c5948f9a0a8"
      },
      "execution_count": 10,
      "outputs": [
        {
          "output_type": "stream",
          "name": "stdout",
          "text": [
            "Mounted at /content/drive\n"
          ]
        }
      ]
    },
    {
      "cell_type": "code",
      "source": [
        "data = pd. read_csv(\"/content/drive/My Drive/CD/_Viettel_ Data_ sentiment - Trang tính1 (1).csv\", encoding=\"UTF-8\")\n",
        "data.head(10)"
      ],
      "metadata": {
        "id": "j79-Y2i_9UcT",
        "colab": {
          "base_uri": "https://localhost:8080/",
          "height": 363
        },
        "outputId": "29c6a56f-0767-4c25-ea92-a8acdd279fd8"
      },
      "execution_count": 11,
      "outputs": [
        {
          "output_type": "execute_result",
          "data": {
            "text/plain": [
              "                                             Comment Label Unnamed: 2\n",
              "0  Camera Viettel này rất tệ mua máy của eviz về ...   Neg        NaN\n",
              "1  Đừng nên tải mn ơi. em mất 400k rồi, gửi tiền ...   Neg        NaN\n",
              "2  Ứng dụng ViettelHome giúp tôi tiết kiệm thời g...   Pos        NaN\n",
              "3  Đang cần chuyển tiền mà vào app thì kêu là bị ...   Neg        NaN\n",
              "4  Rất ấn tượng với giao diện thân thiện và dễ sử...   Pos        NaN\n",
              "5  Ứng dụng này thật sự hữu ích! Tôi không phải l...   Pos        NaN\n",
              "6            rất thuận tiện cho cuộc sống hàng ngày!   Pos        NaN\n",
              "7  Tôi cảm thấy an tâm hơn khi đang ở một nơi khá...   Pos        NaN\n",
              "8  Giao dịch liên tục lỗi,hiện thông báo trừ tiền...   Neg        NaN\n",
              "9  Cảm ơn ViettelHome vì đã mang đến cho tôi một ...   Pos        NaN"
            ],
            "text/html": [
              "\n",
              "  <div id=\"df-deb16b6b-d229-4c80-8e7d-f042e670dc78\" class=\"colab-df-container\">\n",
              "    <div>\n",
              "<style scoped>\n",
              "    .dataframe tbody tr th:only-of-type {\n",
              "        vertical-align: middle;\n",
              "    }\n",
              "\n",
              "    .dataframe tbody tr th {\n",
              "        vertical-align: top;\n",
              "    }\n",
              "\n",
              "    .dataframe thead th {\n",
              "        text-align: right;\n",
              "    }\n",
              "</style>\n",
              "<table border=\"1\" class=\"dataframe\">\n",
              "  <thead>\n",
              "    <tr style=\"text-align: right;\">\n",
              "      <th></th>\n",
              "      <th>Comment</th>\n",
              "      <th>Label</th>\n",
              "      <th>Unnamed: 2</th>\n",
              "    </tr>\n",
              "  </thead>\n",
              "  <tbody>\n",
              "    <tr>\n",
              "      <th>0</th>\n",
              "      <td>Camera Viettel này rất tệ mua máy của eviz về ...</td>\n",
              "      <td>Neg</td>\n",
              "      <td>NaN</td>\n",
              "    </tr>\n",
              "    <tr>\n",
              "      <th>1</th>\n",
              "      <td>Đừng nên tải mn ơi. em mất 400k rồi, gửi tiền ...</td>\n",
              "      <td>Neg</td>\n",
              "      <td>NaN</td>\n",
              "    </tr>\n",
              "    <tr>\n",
              "      <th>2</th>\n",
              "      <td>Ứng dụng ViettelHome giúp tôi tiết kiệm thời g...</td>\n",
              "      <td>Pos</td>\n",
              "      <td>NaN</td>\n",
              "    </tr>\n",
              "    <tr>\n",
              "      <th>3</th>\n",
              "      <td>Đang cần chuyển tiền mà vào app thì kêu là bị ...</td>\n",
              "      <td>Neg</td>\n",
              "      <td>NaN</td>\n",
              "    </tr>\n",
              "    <tr>\n",
              "      <th>4</th>\n",
              "      <td>Rất ấn tượng với giao diện thân thiện và dễ sử...</td>\n",
              "      <td>Pos</td>\n",
              "      <td>NaN</td>\n",
              "    </tr>\n",
              "    <tr>\n",
              "      <th>5</th>\n",
              "      <td>Ứng dụng này thật sự hữu ích! Tôi không phải l...</td>\n",
              "      <td>Pos</td>\n",
              "      <td>NaN</td>\n",
              "    </tr>\n",
              "    <tr>\n",
              "      <th>6</th>\n",
              "      <td>rất thuận tiện cho cuộc sống hàng ngày!</td>\n",
              "      <td>Pos</td>\n",
              "      <td>NaN</td>\n",
              "    </tr>\n",
              "    <tr>\n",
              "      <th>7</th>\n",
              "      <td>Tôi cảm thấy an tâm hơn khi đang ở một nơi khá...</td>\n",
              "      <td>Pos</td>\n",
              "      <td>NaN</td>\n",
              "    </tr>\n",
              "    <tr>\n",
              "      <th>8</th>\n",
              "      <td>Giao dịch liên tục lỗi,hiện thông báo trừ tiền...</td>\n",
              "      <td>Neg</td>\n",
              "      <td>NaN</td>\n",
              "    </tr>\n",
              "    <tr>\n",
              "      <th>9</th>\n",
              "      <td>Cảm ơn ViettelHome vì đã mang đến cho tôi một ...</td>\n",
              "      <td>Pos</td>\n",
              "      <td>NaN</td>\n",
              "    </tr>\n",
              "  </tbody>\n",
              "</table>\n",
              "</div>\n",
              "    <div class=\"colab-df-buttons\">\n",
              "\n",
              "  <div class=\"colab-df-container\">\n",
              "    <button class=\"colab-df-convert\" onclick=\"convertToInteractive('df-deb16b6b-d229-4c80-8e7d-f042e670dc78')\"\n",
              "            title=\"Convert this dataframe to an interactive table.\"\n",
              "            style=\"display:none;\">\n",
              "\n",
              "  <svg xmlns=\"http://www.w3.org/2000/svg\" height=\"24px\" viewBox=\"0 -960 960 960\">\n",
              "    <path d=\"M120-120v-720h720v720H120Zm60-500h600v-160H180v160Zm220 220h160v-160H400v160Zm0 220h160v-160H400v160ZM180-400h160v-160H180v160Zm440 0h160v-160H620v160ZM180-180h160v-160H180v160Zm440 0h160v-160H620v160Z\"/>\n",
              "  </svg>\n",
              "    </button>\n",
              "\n",
              "  <style>\n",
              "    .colab-df-container {\n",
              "      display:flex;\n",
              "      gap: 12px;\n",
              "    }\n",
              "\n",
              "    .colab-df-convert {\n",
              "      background-color: #E8F0FE;\n",
              "      border: none;\n",
              "      border-radius: 50%;\n",
              "      cursor: pointer;\n",
              "      display: none;\n",
              "      fill: #1967D2;\n",
              "      height: 32px;\n",
              "      padding: 0 0 0 0;\n",
              "      width: 32px;\n",
              "    }\n",
              "\n",
              "    .colab-df-convert:hover {\n",
              "      background-color: #E2EBFA;\n",
              "      box-shadow: 0px 1px 2px rgba(60, 64, 67, 0.3), 0px 1px 3px 1px rgba(60, 64, 67, 0.15);\n",
              "      fill: #174EA6;\n",
              "    }\n",
              "\n",
              "    .colab-df-buttons div {\n",
              "      margin-bottom: 4px;\n",
              "    }\n",
              "\n",
              "    [theme=dark] .colab-df-convert {\n",
              "      background-color: #3B4455;\n",
              "      fill: #D2E3FC;\n",
              "    }\n",
              "\n",
              "    [theme=dark] .colab-df-convert:hover {\n",
              "      background-color: #434B5C;\n",
              "      box-shadow: 0px 1px 3px 1px rgba(0, 0, 0, 0.15);\n",
              "      filter: drop-shadow(0px 1px 2px rgba(0, 0, 0, 0.3));\n",
              "      fill: #FFFFFF;\n",
              "    }\n",
              "  </style>\n",
              "\n",
              "    <script>\n",
              "      const buttonEl =\n",
              "        document.querySelector('#df-deb16b6b-d229-4c80-8e7d-f042e670dc78 button.colab-df-convert');\n",
              "      buttonEl.style.display =\n",
              "        google.colab.kernel.accessAllowed ? 'block' : 'none';\n",
              "\n",
              "      async function convertToInteractive(key) {\n",
              "        const element = document.querySelector('#df-deb16b6b-d229-4c80-8e7d-f042e670dc78');\n",
              "        const dataTable =\n",
              "          await google.colab.kernel.invokeFunction('convertToInteractive',\n",
              "                                                    [key], {});\n",
              "        if (!dataTable) return;\n",
              "\n",
              "        const docLinkHtml = 'Like what you see? Visit the ' +\n",
              "          '<a target=\"_blank\" href=https://colab.research.google.com/notebooks/data_table.ipynb>data table notebook</a>'\n",
              "          + ' to learn more about interactive tables.';\n",
              "        element.innerHTML = '';\n",
              "        dataTable['output_type'] = 'display_data';\n",
              "        await google.colab.output.renderOutput(dataTable, element);\n",
              "        const docLink = document.createElement('div');\n",
              "        docLink.innerHTML = docLinkHtml;\n",
              "        element.appendChild(docLink);\n",
              "      }\n",
              "    </script>\n",
              "  </div>\n",
              "\n",
              "\n",
              "<div id=\"df-41d6b570-0a3f-42d5-8b49-7f43cab33b90\">\n",
              "  <button class=\"colab-df-quickchart\" onclick=\"quickchart('df-41d6b570-0a3f-42d5-8b49-7f43cab33b90')\"\n",
              "            title=\"Suggest charts\"\n",
              "            style=\"display:none;\">\n",
              "\n",
              "<svg xmlns=\"http://www.w3.org/2000/svg\" height=\"24px\"viewBox=\"0 0 24 24\"\n",
              "     width=\"24px\">\n",
              "    <g>\n",
              "        <path d=\"M19 3H5c-1.1 0-2 .9-2 2v14c0 1.1.9 2 2 2h14c1.1 0 2-.9 2-2V5c0-1.1-.9-2-2-2zM9 17H7v-7h2v7zm4 0h-2V7h2v10zm4 0h-2v-4h2v4z\"/>\n",
              "    </g>\n",
              "</svg>\n",
              "  </button>\n",
              "\n",
              "<style>\n",
              "  .colab-df-quickchart {\n",
              "      --bg-color: #E8F0FE;\n",
              "      --fill-color: #1967D2;\n",
              "      --hover-bg-color: #E2EBFA;\n",
              "      --hover-fill-color: #174EA6;\n",
              "      --disabled-fill-color: #AAA;\n",
              "      --disabled-bg-color: #DDD;\n",
              "  }\n",
              "\n",
              "  [theme=dark] .colab-df-quickchart {\n",
              "      --bg-color: #3B4455;\n",
              "      --fill-color: #D2E3FC;\n",
              "      --hover-bg-color: #434B5C;\n",
              "      --hover-fill-color: #FFFFFF;\n",
              "      --disabled-bg-color: #3B4455;\n",
              "      --disabled-fill-color: #666;\n",
              "  }\n",
              "\n",
              "  .colab-df-quickchart {\n",
              "    background-color: var(--bg-color);\n",
              "    border: none;\n",
              "    border-radius: 50%;\n",
              "    cursor: pointer;\n",
              "    display: none;\n",
              "    fill: var(--fill-color);\n",
              "    height: 32px;\n",
              "    padding: 0;\n",
              "    width: 32px;\n",
              "  }\n",
              "\n",
              "  .colab-df-quickchart:hover {\n",
              "    background-color: var(--hover-bg-color);\n",
              "    box-shadow: 0 1px 2px rgba(60, 64, 67, 0.3), 0 1px 3px 1px rgba(60, 64, 67, 0.15);\n",
              "    fill: var(--button-hover-fill-color);\n",
              "  }\n",
              "\n",
              "  .colab-df-quickchart-complete:disabled,\n",
              "  .colab-df-quickchart-complete:disabled:hover {\n",
              "    background-color: var(--disabled-bg-color);\n",
              "    fill: var(--disabled-fill-color);\n",
              "    box-shadow: none;\n",
              "  }\n",
              "\n",
              "  .colab-df-spinner {\n",
              "    border: 2px solid var(--fill-color);\n",
              "    border-color: transparent;\n",
              "    border-bottom-color: var(--fill-color);\n",
              "    animation:\n",
              "      spin 1s steps(1) infinite;\n",
              "  }\n",
              "\n",
              "  @keyframes spin {\n",
              "    0% {\n",
              "      border-color: transparent;\n",
              "      border-bottom-color: var(--fill-color);\n",
              "      border-left-color: var(--fill-color);\n",
              "    }\n",
              "    20% {\n",
              "      border-color: transparent;\n",
              "      border-left-color: var(--fill-color);\n",
              "      border-top-color: var(--fill-color);\n",
              "    }\n",
              "    30% {\n",
              "      border-color: transparent;\n",
              "      border-left-color: var(--fill-color);\n",
              "      border-top-color: var(--fill-color);\n",
              "      border-right-color: var(--fill-color);\n",
              "    }\n",
              "    40% {\n",
              "      border-color: transparent;\n",
              "      border-right-color: var(--fill-color);\n",
              "      border-top-color: var(--fill-color);\n",
              "    }\n",
              "    60% {\n",
              "      border-color: transparent;\n",
              "      border-right-color: var(--fill-color);\n",
              "    }\n",
              "    80% {\n",
              "      border-color: transparent;\n",
              "      border-right-color: var(--fill-color);\n",
              "      border-bottom-color: var(--fill-color);\n",
              "    }\n",
              "    90% {\n",
              "      border-color: transparent;\n",
              "      border-bottom-color: var(--fill-color);\n",
              "    }\n",
              "  }\n",
              "</style>\n",
              "\n",
              "  <script>\n",
              "    async function quickchart(key) {\n",
              "      const quickchartButtonEl =\n",
              "        document.querySelector('#' + key + ' button');\n",
              "      quickchartButtonEl.disabled = true;  // To prevent multiple clicks.\n",
              "      quickchartButtonEl.classList.add('colab-df-spinner');\n",
              "      try {\n",
              "        const charts = await google.colab.kernel.invokeFunction(\n",
              "            'suggestCharts', [key], {});\n",
              "      } catch (error) {\n",
              "        console.error('Error during call to suggestCharts:', error);\n",
              "      }\n",
              "      quickchartButtonEl.classList.remove('colab-df-spinner');\n",
              "      quickchartButtonEl.classList.add('colab-df-quickchart-complete');\n",
              "    }\n",
              "    (() => {\n",
              "      let quickchartButtonEl =\n",
              "        document.querySelector('#df-41d6b570-0a3f-42d5-8b49-7f43cab33b90 button');\n",
              "      quickchartButtonEl.style.display =\n",
              "        google.colab.kernel.accessAllowed ? 'block' : 'none';\n",
              "    })();\n",
              "  </script>\n",
              "</div>\n",
              "\n",
              "    </div>\n",
              "  </div>\n"
            ],
            "application/vnd.google.colaboratory.intrinsic+json": {
              "type": "dataframe",
              "variable_name": "data",
              "summary": "{\n  \"name\": \"data\",\n  \"rows\": 1104,\n  \"fields\": [\n    {\n      \"column\": \"Comment\",\n      \"properties\": {\n        \"dtype\": \"string\",\n        \"num_unique_values\": 970,\n        \"samples\": [\n          \"L\\u1ea7n th\\u1ee9 2 s\\u1eed d\\u1ee5ng d\\u1ecbch v\\u1ee5 Viettel Post, th\\u1ea5t v\\u1ecdng to\\u00e0n t\\u1eadp v\\u00e0 ch\\u00ednh th\\u1ee9c t\\u1eeb gi\\u00e3. Quy tr\\u00ecnh nh\\u1eadn h\\u00e0ng l\\u1ee7ng c\\u1ee7ng, ko li\\u00ean h\\u1ec7 \\u0111c nh\\u00e2n vi\\u00ean nh\\u1eadn h\\u00e0ng, qu\\u00e1 th\\u1eddi gian d\\u1ef1 ki\\u1ebfn nh\\u1eadn h\\u00e0ng m\\u00e0 ko c\\u00f3 th\\u00f4ng tin g\\u00ec. Li\\u00ean h\\u1ec7 cskh n\\u00f3i ghi nh\\u1eadn nh\\u01b0ng ko th\\u1ea5y ph\\u1ea3n h\\u1ed3i. Chuy\\u1ec3n qua Ahamove.\\r\",\n          \"Ch\\u1ea5t l\\u01b0\\u1ee3ng camera b\\u00ecnh th\\u01b0\\u1eddng, c\\u00f3 ch\\u1ee9c n\\u0103ng \\u0111\\u00e0m tho\\u1ea1i tr\\u1ef1c ti\\u1ebfp ti\\u1ec7n, c\\u00e0i d\\u1ec5 d\\u00e0ng, l\\u00fac chia s\\u1ebb cho t\\u00e0i kho\\u1ea3n kh\\u00e1c nh\\u1eadp m\\u1eadt kh\\u1ea9u hay l\\u1ed7i. Mic thu \\u00e2m k\\u00e9m, nh\\u1ecf ti\\u1ebfng. Khi \\u0111\\u1eb7t tr\\u00ean t\\u1ee7 cao kh\\u00f4ng ch\\u1ec9nh cam ch\\u00fai th\\u1ea5p \\u0111\\u01b0\\u1ee3c, l\\u00fac treo tr\\u1ea7n cam c\\u00f3 th\\u1ec3 ng\\u1eeda h\\u1eb3n xu\\u1ed1ng khi\\u1ebfn m\\u1eaft cam chui lu\\u00f4n v\\u00e0o v\\u1ecf tr\\u1eafng. Kh\\u00f4ng \\u1ed5n nh\\u1ea5t l\\u00e0 ch\\u1ea1y ng\\u1ea7m t\\u1ed1n r\\u1ea5t nhi\\u1ec1u pin, kh\\u1ea3 n\\u0103ng do c\\u1ea5p quy\\u1ec1n d\\u00f9ng mic \\u0111i\\u1ec7n tho\\u1ea1i cho \\u1ee9ng d\\u1ee5ng\\r\\n\",\n          \"Giao v\\u00e0 l\\u1ea5y h\\u00e0ng ch\\u1eadm\\r\"\n        ],\n        \"semantic_type\": \"\",\n        \"description\": \"\"\n      }\n    },\n    {\n      \"column\": \"Label\",\n      \"properties\": {\n        \"dtype\": \"category\",\n        \"num_unique_values\": 2,\n        \"samples\": [\n          \"Pos\",\n          \"Neg\"\n        ],\n        \"semantic_type\": \"\",\n        \"description\": \"\"\n      }\n    },\n    {\n      \"column\": \"Unnamed: 2\",\n      \"properties\": {\n        \"dtype\": \"category\",\n        \"num_unique_values\": 2,\n        \"samples\": [\n          \"0\",\n          \"\\n\"\n        ],\n        \"semantic_type\": \"\",\n        \"description\": \"\"\n      }\n    }\n  ]\n}"
            }
          },
          "metadata": {},
          "execution_count": 11
        }
      ]
    },
    {
      "cell_type": "code",
      "source": [
        "sentiment_data = pd.DataFrame({'input':data['Comment'], 'label':data['Label']})\n",
        "sentiment_data = sentiment_data.dropna()\n",
        "sentiment_data = sentiment_data.reset_index(drop=True)\n",
        "sentiment_data.head()"
      ],
      "metadata": {
        "id": "eLTrwB2D76VA",
        "colab": {
          "base_uri": "https://localhost:8080/",
          "height": 206
        },
        "outputId": "094002ce-67c6-4669-c3b2-17060efa7bfd"
      },
      "execution_count": 12,
      "outputs": [
        {
          "output_type": "execute_result",
          "data": {
            "text/plain": [
              "                                               input label\n",
              "0  Camera Viettel này rất tệ mua máy của eviz về ...   Neg\n",
              "1  Đừng nên tải mn ơi. em mất 400k rồi, gửi tiền ...   Neg\n",
              "2  Ứng dụng ViettelHome giúp tôi tiết kiệm thời g...   Pos\n",
              "3  Đang cần chuyển tiền mà vào app thì kêu là bị ...   Neg\n",
              "4  Rất ấn tượng với giao diện thân thiện và dễ sử...   Pos"
            ],
            "text/html": [
              "\n",
              "  <div id=\"df-3fff5f48-1d2f-4c0e-9fa1-e4a19c7fc268\" class=\"colab-df-container\">\n",
              "    <div>\n",
              "<style scoped>\n",
              "    .dataframe tbody tr th:only-of-type {\n",
              "        vertical-align: middle;\n",
              "    }\n",
              "\n",
              "    .dataframe tbody tr th {\n",
              "        vertical-align: top;\n",
              "    }\n",
              "\n",
              "    .dataframe thead th {\n",
              "        text-align: right;\n",
              "    }\n",
              "</style>\n",
              "<table border=\"1\" class=\"dataframe\">\n",
              "  <thead>\n",
              "    <tr style=\"text-align: right;\">\n",
              "      <th></th>\n",
              "      <th>input</th>\n",
              "      <th>label</th>\n",
              "    </tr>\n",
              "  </thead>\n",
              "  <tbody>\n",
              "    <tr>\n",
              "      <th>0</th>\n",
              "      <td>Camera Viettel này rất tệ mua máy của eviz về ...</td>\n",
              "      <td>Neg</td>\n",
              "    </tr>\n",
              "    <tr>\n",
              "      <th>1</th>\n",
              "      <td>Đừng nên tải mn ơi. em mất 400k rồi, gửi tiền ...</td>\n",
              "      <td>Neg</td>\n",
              "    </tr>\n",
              "    <tr>\n",
              "      <th>2</th>\n",
              "      <td>Ứng dụng ViettelHome giúp tôi tiết kiệm thời g...</td>\n",
              "      <td>Pos</td>\n",
              "    </tr>\n",
              "    <tr>\n",
              "      <th>3</th>\n",
              "      <td>Đang cần chuyển tiền mà vào app thì kêu là bị ...</td>\n",
              "      <td>Neg</td>\n",
              "    </tr>\n",
              "    <tr>\n",
              "      <th>4</th>\n",
              "      <td>Rất ấn tượng với giao diện thân thiện và dễ sử...</td>\n",
              "      <td>Pos</td>\n",
              "    </tr>\n",
              "  </tbody>\n",
              "</table>\n",
              "</div>\n",
              "    <div class=\"colab-df-buttons\">\n",
              "\n",
              "  <div class=\"colab-df-container\">\n",
              "    <button class=\"colab-df-convert\" onclick=\"convertToInteractive('df-3fff5f48-1d2f-4c0e-9fa1-e4a19c7fc268')\"\n",
              "            title=\"Convert this dataframe to an interactive table.\"\n",
              "            style=\"display:none;\">\n",
              "\n",
              "  <svg xmlns=\"http://www.w3.org/2000/svg\" height=\"24px\" viewBox=\"0 -960 960 960\">\n",
              "    <path d=\"M120-120v-720h720v720H120Zm60-500h600v-160H180v160Zm220 220h160v-160H400v160Zm0 220h160v-160H400v160ZM180-400h160v-160H180v160Zm440 0h160v-160H620v160ZM180-180h160v-160H180v160Zm440 0h160v-160H620v160Z\"/>\n",
              "  </svg>\n",
              "    </button>\n",
              "\n",
              "  <style>\n",
              "    .colab-df-container {\n",
              "      display:flex;\n",
              "      gap: 12px;\n",
              "    }\n",
              "\n",
              "    .colab-df-convert {\n",
              "      background-color: #E8F0FE;\n",
              "      border: none;\n",
              "      border-radius: 50%;\n",
              "      cursor: pointer;\n",
              "      display: none;\n",
              "      fill: #1967D2;\n",
              "      height: 32px;\n",
              "      padding: 0 0 0 0;\n",
              "      width: 32px;\n",
              "    }\n",
              "\n",
              "    .colab-df-convert:hover {\n",
              "      background-color: #E2EBFA;\n",
              "      box-shadow: 0px 1px 2px rgba(60, 64, 67, 0.3), 0px 1px 3px 1px rgba(60, 64, 67, 0.15);\n",
              "      fill: #174EA6;\n",
              "    }\n",
              "\n",
              "    .colab-df-buttons div {\n",
              "      margin-bottom: 4px;\n",
              "    }\n",
              "\n",
              "    [theme=dark] .colab-df-convert {\n",
              "      background-color: #3B4455;\n",
              "      fill: #D2E3FC;\n",
              "    }\n",
              "\n",
              "    [theme=dark] .colab-df-convert:hover {\n",
              "      background-color: #434B5C;\n",
              "      box-shadow: 0px 1px 3px 1px rgba(0, 0, 0, 0.15);\n",
              "      filter: drop-shadow(0px 1px 2px rgba(0, 0, 0, 0.3));\n",
              "      fill: #FFFFFF;\n",
              "    }\n",
              "  </style>\n",
              "\n",
              "    <script>\n",
              "      const buttonEl =\n",
              "        document.querySelector('#df-3fff5f48-1d2f-4c0e-9fa1-e4a19c7fc268 button.colab-df-convert');\n",
              "      buttonEl.style.display =\n",
              "        google.colab.kernel.accessAllowed ? 'block' : 'none';\n",
              "\n",
              "      async function convertToInteractive(key) {\n",
              "        const element = document.querySelector('#df-3fff5f48-1d2f-4c0e-9fa1-e4a19c7fc268');\n",
              "        const dataTable =\n",
              "          await google.colab.kernel.invokeFunction('convertToInteractive',\n",
              "                                                    [key], {});\n",
              "        if (!dataTable) return;\n",
              "\n",
              "        const docLinkHtml = 'Like what you see? Visit the ' +\n",
              "          '<a target=\"_blank\" href=https://colab.research.google.com/notebooks/data_table.ipynb>data table notebook</a>'\n",
              "          + ' to learn more about interactive tables.';\n",
              "        element.innerHTML = '';\n",
              "        dataTable['output_type'] = 'display_data';\n",
              "        await google.colab.output.renderOutput(dataTable, element);\n",
              "        const docLink = document.createElement('div');\n",
              "        docLink.innerHTML = docLinkHtml;\n",
              "        element.appendChild(docLink);\n",
              "      }\n",
              "    </script>\n",
              "  </div>\n",
              "\n",
              "\n",
              "<div id=\"df-99628c1b-dd1c-4c5a-8ba6-96d315bd2f57\">\n",
              "  <button class=\"colab-df-quickchart\" onclick=\"quickchart('df-99628c1b-dd1c-4c5a-8ba6-96d315bd2f57')\"\n",
              "            title=\"Suggest charts\"\n",
              "            style=\"display:none;\">\n",
              "\n",
              "<svg xmlns=\"http://www.w3.org/2000/svg\" height=\"24px\"viewBox=\"0 0 24 24\"\n",
              "     width=\"24px\">\n",
              "    <g>\n",
              "        <path d=\"M19 3H5c-1.1 0-2 .9-2 2v14c0 1.1.9 2 2 2h14c1.1 0 2-.9 2-2V5c0-1.1-.9-2-2-2zM9 17H7v-7h2v7zm4 0h-2V7h2v10zm4 0h-2v-4h2v4z\"/>\n",
              "    </g>\n",
              "</svg>\n",
              "  </button>\n",
              "\n",
              "<style>\n",
              "  .colab-df-quickchart {\n",
              "      --bg-color: #E8F0FE;\n",
              "      --fill-color: #1967D2;\n",
              "      --hover-bg-color: #E2EBFA;\n",
              "      --hover-fill-color: #174EA6;\n",
              "      --disabled-fill-color: #AAA;\n",
              "      --disabled-bg-color: #DDD;\n",
              "  }\n",
              "\n",
              "  [theme=dark] .colab-df-quickchart {\n",
              "      --bg-color: #3B4455;\n",
              "      --fill-color: #D2E3FC;\n",
              "      --hover-bg-color: #434B5C;\n",
              "      --hover-fill-color: #FFFFFF;\n",
              "      --disabled-bg-color: #3B4455;\n",
              "      --disabled-fill-color: #666;\n",
              "  }\n",
              "\n",
              "  .colab-df-quickchart {\n",
              "    background-color: var(--bg-color);\n",
              "    border: none;\n",
              "    border-radius: 50%;\n",
              "    cursor: pointer;\n",
              "    display: none;\n",
              "    fill: var(--fill-color);\n",
              "    height: 32px;\n",
              "    padding: 0;\n",
              "    width: 32px;\n",
              "  }\n",
              "\n",
              "  .colab-df-quickchart:hover {\n",
              "    background-color: var(--hover-bg-color);\n",
              "    box-shadow: 0 1px 2px rgba(60, 64, 67, 0.3), 0 1px 3px 1px rgba(60, 64, 67, 0.15);\n",
              "    fill: var(--button-hover-fill-color);\n",
              "  }\n",
              "\n",
              "  .colab-df-quickchart-complete:disabled,\n",
              "  .colab-df-quickchart-complete:disabled:hover {\n",
              "    background-color: var(--disabled-bg-color);\n",
              "    fill: var(--disabled-fill-color);\n",
              "    box-shadow: none;\n",
              "  }\n",
              "\n",
              "  .colab-df-spinner {\n",
              "    border: 2px solid var(--fill-color);\n",
              "    border-color: transparent;\n",
              "    border-bottom-color: var(--fill-color);\n",
              "    animation:\n",
              "      spin 1s steps(1) infinite;\n",
              "  }\n",
              "\n",
              "  @keyframes spin {\n",
              "    0% {\n",
              "      border-color: transparent;\n",
              "      border-bottom-color: var(--fill-color);\n",
              "      border-left-color: var(--fill-color);\n",
              "    }\n",
              "    20% {\n",
              "      border-color: transparent;\n",
              "      border-left-color: var(--fill-color);\n",
              "      border-top-color: var(--fill-color);\n",
              "    }\n",
              "    30% {\n",
              "      border-color: transparent;\n",
              "      border-left-color: var(--fill-color);\n",
              "      border-top-color: var(--fill-color);\n",
              "      border-right-color: var(--fill-color);\n",
              "    }\n",
              "    40% {\n",
              "      border-color: transparent;\n",
              "      border-right-color: var(--fill-color);\n",
              "      border-top-color: var(--fill-color);\n",
              "    }\n",
              "    60% {\n",
              "      border-color: transparent;\n",
              "      border-right-color: var(--fill-color);\n",
              "    }\n",
              "    80% {\n",
              "      border-color: transparent;\n",
              "      border-right-color: var(--fill-color);\n",
              "      border-bottom-color: var(--fill-color);\n",
              "    }\n",
              "    90% {\n",
              "      border-color: transparent;\n",
              "      border-bottom-color: var(--fill-color);\n",
              "    }\n",
              "  }\n",
              "</style>\n",
              "\n",
              "  <script>\n",
              "    async function quickchart(key) {\n",
              "      const quickchartButtonEl =\n",
              "        document.querySelector('#' + key + ' button');\n",
              "      quickchartButtonEl.disabled = true;  // To prevent multiple clicks.\n",
              "      quickchartButtonEl.classList.add('colab-df-spinner');\n",
              "      try {\n",
              "        const charts = await google.colab.kernel.invokeFunction(\n",
              "            'suggestCharts', [key], {});\n",
              "      } catch (error) {\n",
              "        console.error('Error during call to suggestCharts:', error);\n",
              "      }\n",
              "      quickchartButtonEl.classList.remove('colab-df-spinner');\n",
              "      quickchartButtonEl.classList.add('colab-df-quickchart-complete');\n",
              "    }\n",
              "    (() => {\n",
              "      let quickchartButtonEl =\n",
              "        document.querySelector('#df-99628c1b-dd1c-4c5a-8ba6-96d315bd2f57 button');\n",
              "      quickchartButtonEl.style.display =\n",
              "        google.colab.kernel.accessAllowed ? 'block' : 'none';\n",
              "    })();\n",
              "  </script>\n",
              "</div>\n",
              "\n",
              "    </div>\n",
              "  </div>\n"
            ],
            "application/vnd.google.colaboratory.intrinsic+json": {
              "type": "dataframe",
              "variable_name": "sentiment_data",
              "summary": "{\n  \"name\": \"sentiment_data\",\n  \"rows\": 1103,\n  \"fields\": [\n    {\n      \"column\": \"input\",\n      \"properties\": {\n        \"dtype\": \"string\",\n        \"num_unique_values\": 970,\n        \"samples\": [\n          \"L\\u1ea7n th\\u1ee9 2 s\\u1eed d\\u1ee5ng d\\u1ecbch v\\u1ee5 Viettel Post, th\\u1ea5t v\\u1ecdng to\\u00e0n t\\u1eadp v\\u00e0 ch\\u00ednh th\\u1ee9c t\\u1eeb gi\\u00e3. Quy tr\\u00ecnh nh\\u1eadn h\\u00e0ng l\\u1ee7ng c\\u1ee7ng, ko li\\u00ean h\\u1ec7 \\u0111c nh\\u00e2n vi\\u00ean nh\\u1eadn h\\u00e0ng, qu\\u00e1 th\\u1eddi gian d\\u1ef1 ki\\u1ebfn nh\\u1eadn h\\u00e0ng m\\u00e0 ko c\\u00f3 th\\u00f4ng tin g\\u00ec. Li\\u00ean h\\u1ec7 cskh n\\u00f3i ghi nh\\u1eadn nh\\u01b0ng ko th\\u1ea5y ph\\u1ea3n h\\u1ed3i. Chuy\\u1ec3n qua Ahamove.\\r\",\n          \"Ch\\u1ea5t l\\u01b0\\u1ee3ng camera b\\u00ecnh th\\u01b0\\u1eddng, c\\u00f3 ch\\u1ee9c n\\u0103ng \\u0111\\u00e0m tho\\u1ea1i tr\\u1ef1c ti\\u1ebfp ti\\u1ec7n, c\\u00e0i d\\u1ec5 d\\u00e0ng, l\\u00fac chia s\\u1ebb cho t\\u00e0i kho\\u1ea3n kh\\u00e1c nh\\u1eadp m\\u1eadt kh\\u1ea9u hay l\\u1ed7i. Mic thu \\u00e2m k\\u00e9m, nh\\u1ecf ti\\u1ebfng. Khi \\u0111\\u1eb7t tr\\u00ean t\\u1ee7 cao kh\\u00f4ng ch\\u1ec9nh cam ch\\u00fai th\\u1ea5p \\u0111\\u01b0\\u1ee3c, l\\u00fac treo tr\\u1ea7n cam c\\u00f3 th\\u1ec3 ng\\u1eeda h\\u1eb3n xu\\u1ed1ng khi\\u1ebfn m\\u1eaft cam chui lu\\u00f4n v\\u00e0o v\\u1ecf tr\\u1eafng. Kh\\u00f4ng \\u1ed5n nh\\u1ea5t l\\u00e0 ch\\u1ea1y ng\\u1ea7m t\\u1ed1n r\\u1ea5t nhi\\u1ec1u pin, kh\\u1ea3 n\\u0103ng do c\\u1ea5p quy\\u1ec1n d\\u00f9ng mic \\u0111i\\u1ec7n tho\\u1ea1i cho \\u1ee9ng d\\u1ee5ng\\r\\n\",\n          \"Giao v\\u00e0 l\\u1ea5y h\\u00e0ng ch\\u1eadm\\r\"\n        ],\n        \"semantic_type\": \"\",\n        \"description\": \"\"\n      }\n    },\n    {\n      \"column\": \"label\",\n      \"properties\": {\n        \"dtype\": \"category\",\n        \"num_unique_values\": 2,\n        \"samples\": [\n          \"Pos\",\n          \"Neg\"\n        ],\n        \"semantic_type\": \"\",\n        \"description\": \"\"\n      }\n    }\n  ]\n}"
            }
          },
          "metadata": {},
          "execution_count": 12
        }
      ]
    },
    {
      "cell_type": "markdown",
      "source": [
        "PREPROCESSING DATA & PREPARE DATA FOR TRANING"
      ],
      "metadata": {
        "id": "Mgspp5wNe_IO"
      }
    },
    {
      "cell_type": "code",
      "source": [
        "input_data = sentiment_data['input'].values\n",
        "input_label = sentiment_data['label'].values\n",
        "\n",
        "label_dict = {'Neg':0,'Pos':1}\n",
        "\n",
        "input_pre = []\n",
        "label_with_accent = []\n",
        "for idx, dt in enumerate(input_data):\n",
        "  #input_text_pre = list(tf.keras.preprocessing.text.text_to_word_sequence(dt))\n",
        "  input_text_pre = list(tf.keras.preprocessing.text.text_to_word_sequence(str(dt)))\n",
        "  input_text_pre = \" \".join(input_text_pre)\n",
        "  input_text_pre_no_accent = str(ViUtils.remove_accents(input_text_pre).decode(\"utf-8\"))\n",
        "  input_text_pre_accent = ViTokenizer.tokenize(input_text_pre)\n",
        "  input_text_pre_no_accent = ViTokenizer.tokenize(input_text_pre_no_accent)\n",
        "  input_pre.append(input_text_pre_accent)\n",
        "  input_pre.append(input_text_pre_no_accent)\n",
        "  label_with_accent.append(input_label[idx])\n",
        "  label_with_accent.append(input_label[idx])\n"
      ],
      "metadata": {
        "id": "TKHsLi_n9nBs"
      },
      "execution_count": 13,
      "outputs": []
    },
    {
      "cell_type": "code",
      "source": [
        "negative_count = len(data[data['Label'] == 'Neg'])\n",
        "print(\"Số lượng nhãn Negative là:\", negative_count)\n",
        "\n",
        "positive_count = len(data[data['Label'] == 'Pos'])\n",
        "print(\"Số lượng nhãn Positive là:\", positive_count)"
      ],
      "metadata": {
        "id": "F2xcwedx9p3M",
        "colab": {
          "base_uri": "https://localhost:8080/"
        },
        "outputId": "3a09c1b8-139b-4590-91cb-c41651fec958"
      },
      "execution_count": 14,
      "outputs": [
        {
          "output_type": "stream",
          "name": "stdout",
          "text": [
            "Số lượng nhãn Negative là: 646\n",
            "Số lượng nhãn Positive là: 457\n"
          ]
        }
      ]
    },
    {
      "cell_type": "code",
      "source": [
        "seq_len = [len(i.split()) for i in input_pre[1:300]]\n",
        "pd.Series(seq_len).hist(bins=10)\n",
        "plt.show()\n",
        "\n",
        "seq_len = [len(i.split()) for i in input_pre[300:600]]\n",
        "pd.Series(seq_len).hist(bins=10)\n",
        "plt.show()\n",
        "\n",
        "seq_len = [len(i.split()) for i in input_pre[600:900]]\n",
        "pd.Series(seq_len).hist(bins=10)\n",
        "plt.show()\n",
        "\n",
        "seq_len = [len(i.split()) for i in input_pre[900:1100]]\n",
        "pd.Series(seq_len).hist(bins=10)\n",
        "plt.show()\n"
      ],
      "metadata": {
        "id": "0SYnJJje9zcT",
        "colab": {
          "base_uri": "https://localhost:8080/",
          "height": 1000
        },
        "outputId": "179babed-395a-4597-d6e5-64623c715443"
      },
      "execution_count": 15,
      "outputs": [
        {
          "output_type": "display_data",
          "data": {
            "text/plain": [
              "<Figure size 640x480 with 1 Axes>"
            ],
            "image/png": "[encoded data removed]"
          },
          "metadata": {}
        },
        {
          "output_type": "display_data",
          "data": {
            "text/plain": [
              "<Figure size 640x480 with 1 Axes>"
            ],
            "image/png": "[encoded data removed]"
          },
          "metadata": {}
        },
        {
          "output_type": "display_data",
          "data": {
            "text/plain": [
              "<Figure size 640x480 with 1 Axes>"
            ],
            "image/png": "[encoded data removed]"
          },
          "metadata": {}
        },
        {
          "output_type": "display_data",
          "data": {
            "text/plain": [
              "<Figure size 640x480 with 1 Axes>"
            ],
            "image/png": "[encoded data removed]"
          },
          "metadata": {}
        }
      ]
    },
    {
      "cell_type": "code",
      "source": [
        "label_idx = [label_dict[i] for i in label_with_accent]\n",
        "label_tf = tf.keras.utils.to_categorical(label_idx, num_classes=3, dtype='float32')\n",
        "\n",
        "tokenizer_data = Tokenizer(oov_token='<OOV>', filters = '', split = ' ')\n",
        "tokenizer_data.fit_on_texts(input_pre)\n",
        "\n",
        "tokenizer_data_text = tokenizer_data.texts_to_sequences(input_pre)\n",
        "vec_data = pad_sequences(tokenizer_data_text, padding='post', maxlen = 120)\n",
        "\n",
        "pickle.dump(tokenizer_data, open(\"tokenizer_data.pkl\", \"wb\"))\n",
        "\n",
        "print(\"input data.shape\", vec_data.shape)\n",
        "data_vocab_size = len(tokenizer_data.word_index)+1\n",
        "print(\"data_vocab_size: \", data_vocab_size)\n",
        "\n",
        "X_train, X_val, y_train, y_val = train_test_split(vec_data, label_tf, test_size=0.2, random_state=42)\n",
        "X_train, X_test, y_train, y_test = train_test_split(vec_data, label_tf, test_size=0.1, random_state=42)\n",
        "print(\"Training sample: \", len(X_train))\n",
        "print(\"Validation sample: \", len(X_val))\n",
        "print(\"Test sample: \", len(X_test))"
      ],
      "metadata": {
        "colab": {
          "base_uri": "https://localhost:8080/"
        },
        "id": "gnbvTmp1llhP",
        "outputId": "39352208-2466-4c15-c332-c331488726da"
      },
      "execution_count": 16,
      "outputs": [
        {
          "output_type": "stream",
          "name": "stdout",
          "text": [
            "input data.shape (2206, 120)\n",
            "data_vocab_size:  2878\n",
            "Training sample:  1985\n",
            "Validation sample:  442\n",
            "Test sample:  221\n"
          ]
        }
      ]
    },
    {
      "cell_type": "code",
      "source": [
        "from keras.layers import Input, Embedding, Conv1D, MaxPooling1D, Flatten, Dense, Dropout, Bidirectional, LSTM\n",
        "from keras.models import Model\n",
        "from keras.optimizers import Adam"
      ],
      "metadata": {
        "id": "PJrKafRw-lPk"
      },
      "execution_count": 17,
      "outputs": []
    },
    {
      "cell_type": "markdown",
      "source": [
        "CREATE MODEL FROM SCRATCH"
      ],
      "metadata": {
        "id": "Zb29Qjp_-s5r"
      }
    },
    {
      "cell_type": "code",
      "source": [
        "def generate_model():\n",
        "  dropout_threshold = 0.4\n",
        "  input_dim = data_vocab_size\n",
        "  output_dim = 32\n",
        "  input_length = 120\n",
        "  initializer = tf.keras.initializers.GlorotNormal()\n",
        "\n",
        "  input_layer = Input(shape=input_length)\n",
        "  feature = Embedding(input_dim=input_dim, output_dim=output_dim, input_length=input_length, embeddings_initializer=\"GlorotNormal\")(input_layer)\n",
        "\n",
        "  cnn_feature = Conv1D(filters=32, kernel_size=3, padding='same', activation='relu')(feature)\n",
        "  cnn_feature = MaxPooling1D()(cnn_feature)\n",
        "  cnn_feature = Dropout(dropout_threshold)(cnn_feature)\n",
        "  cnn_feature = Conv1D(filters=32, kernel_size=3, padding='same', activation='relu')(cnn_feature)\n",
        "  cnn_feature = MaxPooling1D()(cnn_feature)\n",
        "  cnn_feature = LayerNormalization()(cnn_feature)\n",
        "  cnn_feature = Dropout(dropout_threshold)(cnn_feature)\n",
        "\n",
        "  bi_lstm_feature = Bidirectional(LSTM(units=32, dropout=dropout_threshold, return_sequences=True, kernel_initializer=initializer), merge_mode = 'concat')(feature)\n",
        "  bi_lstm_feature = MaxPooling1D()(bi_lstm_feature)\n",
        "\n",
        "  bi_lstm_feature = Bidirectional(LSTM(units=32, dropout=dropout_threshold, return_sequences=True, kernel_initializer=initializer), merge_mode = 'concat')(bi_lstm_feature)\n",
        "  bi_lstm_feature = MaxPooling1D()(bi_lstm_feature)\n",
        "  bi_lstm_feature = LayerNormalization()(bi_lstm_feature)\n",
        "\n",
        "  combine_feature = tf.keras.layers.Concatenate()([cnn_feature, bi_lstm_feature])\n",
        "  combine_feature = GlobalMaxPooling1D()(combine_feature)\n",
        "  combine_feature = LayerNormalization()(combine_feature)\n",
        "\n",
        "  classifier = Dense(90, activation = 'relu')(combine_feature)\n",
        "  classifier = Dropout(0.2)(classifier)\n",
        "  classifier = Dense(70, activation = 'relu')(classifier)\n",
        "  classifier = Dropout(0.2)(classifier)\n",
        "  classifier = Dense(50, activation = 'relu')(classifier)\n",
        "  classifier = Dropout(0.2)(classifier)\n",
        "  classifier = Dense(30, activation = 'relu')(classifier)\n",
        "  classifier = Dropout(0.2)(classifier)\n",
        "  classifier = Dense(3, activation = 'softmax')(classifier)\n",
        "\n",
        "  model = tf.keras.Model(inputs = input_layer, outputs= classifier)\n",
        "\n",
        "  return model\n",
        "\n",
        "model = generate_model()\n",
        "adam = Adam(learning_rate=0.001)\n",
        "model.compile(optimizer=adam, loss='categorical_crossentropy', metrics=['accuracy'])\n",
        "model.summary()"
      ],
      "metadata": {
        "id": "SmZl96W--uWB",
        "colab": {
          "base_uri": "https://localhost:8080/"
        },
        "outputId": "b17c1040-4820-4faf-ddcb-436d1f1ad748"
      },
      "execution_count": 18,
      "outputs": [
        {
          "output_type": "stream",
          "name": "stdout",
          "text": [
            "Model: \"model\"\n",
            "__________________________________________________________________________________________________\n",
            " Layer (type)                Output Shape                 Param #   Connected to                  \n",
            "==================================================================================================\n",
            " input_1 (InputLayer)        [(None, 120)]                0         []                            \n",
            "                                                                                                  \n",
            " embedding (Embedding)       (None, 120, 32)              92096     ['input_1[0][0]']             \n",
            "                                                                                                  \n",
            " conv1d (Conv1D)             (None, 120, 32)              3104      ['embedding[0][0]']           \n",
            "                                                                                                  \n",
            " max_pooling1d (MaxPooling1  (None, 60, 32)               0         ['conv1d[0][0]']              \n",
            " D)                                                                                               \n",
            "                                                                                                  \n",
            " dropout (Dropout)           (None, 60, 32)               0         ['max_pooling1d[0][0]']       \n",
            "                                                                                                  \n",
            " bidirectional (Bidirection  (None, 120, 64)              16640     ['embedding[0][0]']           \n",
            " al)                                                                                              \n",
            "                                                                                                  \n",
            " conv1d_1 (Conv1D)           (None, 60, 32)               3104      ['dropout[0][0]']             \n",
            "                                                                                                  \n",
            " max_pooling1d_2 (MaxPoolin  (None, 60, 64)               0         ['bidirectional[0][0]']       \n",
            " g1D)                                                                                             \n",
            "                                                                                                  \n",
            " max_pooling1d_1 (MaxPoolin  (None, 30, 32)               0         ['conv1d_1[0][0]']            \n",
            " g1D)                                                                                             \n",
            "                                                                                                  \n",
            " bidirectional_1 (Bidirecti  (None, 60, 64)               24832     ['max_pooling1d_2[0][0]']     \n",
            " onal)                                                                                            \n",
            "                                                                                                  \n",
            " layer_normalization (Layer  (None, 30, 32)               64        ['max_pooling1d_1[0][0]']     \n",
            " Normalization)                                                                                   \n",
            "                                                                                                  \n",
            " max_pooling1d_3 (MaxPoolin  (None, 30, 64)               0         ['bidirectional_1[0][0]']     \n",
            " g1D)                                                                                             \n",
            "                                                                                                  \n",
            " dropout_1 (Dropout)         (None, 30, 32)               0         ['layer_normalization[0][0]'] \n",
            "                                                                                                  \n",
            " layer_normalization_1 (Lay  (None, 30, 64)               128       ['max_pooling1d_3[0][0]']     \n",
            " erNormalization)                                                                                 \n",
            "                                                                                                  \n",
            " concatenate (Concatenate)   (None, 30, 96)               0         ['dropout_1[0][0]',           \n",
            "                                                                     'layer_normalization_1[0][0]'\n",
            "                                                                    ]                             \n",
            "                                                                                                  \n",
            " global_max_pooling1d (Glob  (None, 96)                   0         ['concatenate[0][0]']         \n",
            " alMaxPooling1D)                                                                                  \n",
            "                                                                                                  \n",
            " layer_normalization_2 (Lay  (None, 96)                   192       ['global_max_pooling1d[0][0]']\n",
            " erNormalization)                                                                                 \n",
            "                                                                                                  \n",
            " dense (Dense)               (None, 90)                   8730      ['layer_normalization_2[0][0]'\n",
            "                                                                    ]                             \n",
            "                                                                                                  \n",
            " dropout_2 (Dropout)         (None, 90)                   0         ['dense[0][0]']               \n",
            "                                                                                                  \n",
            " dense_1 (Dense)             (None, 70)                   6370      ['dropout_2[0][0]']           \n",
            "                                                                                                  \n",
            " dropout_3 (Dropout)         (None, 70)                   0         ['dense_1[0][0]']             \n",
            "                                                                                                  \n",
            " dense_2 (Dense)             (None, 50)                   3550      ['dropout_3[0][0]']           \n",
            "                                                                                                  \n",
            " dropout_4 (Dropout)         (None, 50)                   0         ['dense_2[0][0]']             \n",
            "                                                                                                  \n",
            " dense_3 (Dense)             (None, 30)                   1530      ['dropout_4[0][0]']           \n",
            "                                                                                                  \n",
            " dropout_5 (Dropout)         (None, 30)                   0         ['dense_3[0][0]']             \n",
            "                                                                                                  \n",
            " dense_4 (Dense)             (None, 3)                    93        ['dropout_5[0][0]']           \n",
            "                                                                                                  \n",
            "==================================================================================================\n",
            "Total params: 160433 (626.69 KB)\n",
            "Trainable params: 160433 (626.69 KB)\n",
            "Non-trainable params: 0 (0.00 Byte)\n",
            "__________________________________________________________________________________________________\n"
          ]
        }
      ]
    },
    {
      "cell_type": "code",
      "source": [
        "callback_model = tf.keras.callbacks.ModelCheckpoint('model_cnn_bilstm.h5', monitor='val_loss')\n",
        "history = model.fit(x = X_train, y = y_train, validation_data = (X_val, y_val), epochs = 10, batch_size = 128, callbacks=[callback_model])"
      ],
      "metadata": {
        "id": "7-KsQBm9-z9Q",
        "colab": {
          "base_uri": "https://localhost:8080/"
        },
        "outputId": "4d880e03-3ffa-4459-e5e2-47d88423c9aa"
      },
      "execution_count": 19,
      "outputs": [
        {
          "output_type": "stream",
          "name": "stdout",
          "text": [
            "Epoch 1/10\n",
            "16/16 [==============================] - 38s 407ms/step - loss: 0.8231 - accuracy: 0.5597 - val_loss: 0.5998 - val_accuracy: 0.7760\n",
            "Epoch 2/10\n"
          ]
        },
        {
          "output_type": "stream",
          "name": "stderr",
          "text": [
            "/usr/local/lib/python3.10/dist-packages/keras/src/engine/training.py:3103: UserWarning: You are saving your model as an HDF5 file via `model.save()`. This file format is considered legacy. We recommend using instead the native Keras format, e.g. `model.save('my_model.keras')`.\n",
            "  saving_api.save_model(\n"
          ]
        },
        {
          "output_type": "stream",
          "name": "stdout",
          "text": [
            "16/16 [==============================] - 3s 176ms/step - loss: 0.6083 - accuracy: 0.6902 - val_loss: 0.4145 - val_accuracy: 0.8258\n",
            "Epoch 3/10\n",
            "16/16 [==============================] - 3s 167ms/step - loss: 0.4813 - accuracy: 0.7960 - val_loss: 0.3447 - val_accuracy: 0.8597\n",
            "Epoch 4/10\n",
            "16/16 [==============================] - 2s 128ms/step - loss: 0.3622 - accuracy: 0.8655 - val_loss: 0.1778 - val_accuracy: 0.9367\n",
            "Epoch 5/10\n",
            "16/16 [==============================] - 2s 105ms/step - loss: 0.2145 - accuracy: 0.9335 - val_loss: 0.1613 - val_accuracy: 0.9502\n",
            "Epoch 6/10\n",
            "16/16 [==============================] - 2s 120ms/step - loss: 0.1337 - accuracy: 0.9627 - val_loss: 0.1134 - val_accuracy: 0.9683\n",
            "Epoch 7/10\n",
            "16/16 [==============================] - 3s 196ms/step - loss: 0.1048 - accuracy: 0.9683 - val_loss: 0.0910 - val_accuracy: 0.9683\n",
            "Epoch 8/10\n",
            "16/16 [==============================] - 2s 107ms/step - loss: 0.0869 - accuracy: 0.9804 - val_loss: 0.0837 - val_accuracy: 0.9683\n",
            "Epoch 9/10\n",
            "16/16 [==============================] - 2s 96ms/step - loss: 0.0532 - accuracy: 0.9874 - val_loss: 0.0905 - val_accuracy: 0.9706\n",
            "Epoch 10/10\n",
            "16/16 [==============================] - 1s 94ms/step - loss: 0.0467 - accuracy: 0.9889 - val_loss: 0.1249 - val_accuracy: 0.9751\n"
          ]
        }
      ]
    },
    {
      "cell_type": "code",
      "source": [
        "model.load_weights(\"model_cnn_bilstm.h5\")\n",
        "model.evaluate(X_test,y_test)"
      ],
      "metadata": {
        "id": "S1j1zy1U-64C",
        "colab": {
          "base_uri": "https://localhost:8080/"
        },
        "outputId": "868a589d-27ca-463d-e362-230f5930bc33"
      },
      "execution_count": 20,
      "outputs": [
        {
          "output_type": "stream",
          "name": "stdout",
          "text": [
            "7/7 [==============================] - 0s 23ms/step - loss: 0.2485 - accuracy: 0.9502\n"
          ]
        },
        {
          "output_type": "execute_result",
          "data": {
            "text/plain": [
              "[0.24854278564453125, 0.9502262473106384]"
            ]
          },
          "metadata": {},
          "execution_count": 20
        }
      ]
    },
    {
      "cell_type": "code",
      "source": [
        "labels = [\"Neg\",\"Pos\"]\n",
        "\n",
        "y_pred = model.predict(X_val)  # Dự đoán trên tập validation\n",
        "# y_pred = model.predict(X_test)  # Dự đoán trên tập test"
      ],
      "metadata": {
        "id": "zppjghdo-8VG",
        "colab": {
          "base_uri": "https://localhost:8080/"
        },
        "outputId": "1d7607aa-9572-4d18-95ca-0c118ccb3d7f"
      },
      "execution_count": 21,
      "outputs": [
        {
          "output_type": "stream",
          "name": "stdout",
          "text": [
            "14/14 [==============================] - 2s 13ms/step\n"
          ]
        }
      ]
    },
    {
      "cell_type": "code",
      "source": [
        "import numpy as np\n",
        "\n",
        "y_pred = [labels[np.argmax(pred)] for pred in y_pred]\n",
        "y_true = [labels[np.argmax(true)] for true in y_val]  # Nhãn thực tế trên tập validation\n",
        "# y_true = [labels[np.argmax(true)] for true in y_test]  # Nhãn thực tế trên tập test"
      ],
      "metadata": {
        "id": "C8mKOlJD--DR"
      },
      "execution_count": 22,
      "outputs": []
    },
    {
      "cell_type": "code",
      "source": [
        "from sklearn.metrics import classification_report\n",
        "\n",
        "report = classification_report(y_true, y_pred, zero_division=1)\n",
        "print(report)"
      ],
      "metadata": {
        "colab": {
          "base_uri": "https://localhost:8080/"
        },
        "id": "VRcmb8gKRkU5",
        "outputId": "ed433e03-6110-4c34-89cc-17e5f2af6930"
      },
      "execution_count": 23,
      "outputs": [
        {
          "output_type": "stream",
          "name": "stdout",
          "text": [
            "              precision    recall  f1-score   support\n",
            "\n",
            "         Neg       0.96      0.99      0.98       246\n",
            "         Pos       0.99      0.95      0.97       196\n",
            "\n",
            "    accuracy                           0.98       442\n",
            "   macro avg       0.98      0.97      0.97       442\n",
            "weighted avg       0.98      0.98      0.98       442\n",
            "\n"
          ]
        }
      ]
    },
    {
      "cell_type": "markdown",
      "source": [
        "INFERENCE MODEL WITH INPUT TEST"
      ],
      "metadata": {
        "id": "P4_ZWokq_BRg"
      }
    },
    {
      "cell_type": "code",
      "source": [
        "def preprocess_raw_input(raw_input, tokenizer):\n",
        "  input_text_pre = list(tf.keras.preprocessing.text.text_to_word_sequence(raw_input))\n",
        "  input_text_pre = \" \".join(input_text_pre)\n",
        "  input_text_pre_accent = ViTokenizer.tokenize(input_text_pre)\n",
        "  print(\"Text preprocessed: \", input_text_pre_accent)\n",
        "  tokenized_data_text = tokenizer.texts_to_sequences([input_text_pre_accent])\n",
        "  vec_data = pad_sequences(tokenized_data_text, padding='post', maxlen=120)\n",
        "  return vec_data\n",
        "\n",
        "def inference_model(input_feature, model):\n",
        "  output = model(input_feature).numpy()[0]\n",
        "  result = output.argmax()\n",
        "  conf = float(output.max())\n",
        "  label_dict = {'Tiêu cực':0, 'Tích cực':1}\n",
        "  label = list(label_dict.keys())\n",
        "  return label[int(result)], conf\n",
        "\n",
        "def prediction(raw_input, tokenizer, model):\n",
        "  input_model = preprocess_raw_input(raw_input, tokenizer_data)\n",
        "  result, conf = inference_model(input_model, model)\n",
        "\n",
        "  return result, conf\n",
        "\n",
        "my_model = generate_model()\n",
        "my_model = load_model('model_cnn_bilstm.h5')\n",
        "\n",
        "with open(r\"tokenizer_data.pkl\", \"rb\") as input_file:\n",
        "  my_tokenizer = pickle.load(input_file)\n",
        "\n",
        "print(prediction(\"Ứng dụng tệ không thể tả nổi! Một tập đoàn lớn như thế mà làm ăn chán\", my_tokenizer, my_model))"
      ],
      "metadata": {
        "id": "LYGA2lRq_But",
        "colab": {
          "base_uri": "https://localhost:8080/"
        },
        "outputId": "83ff09fc-64f4-4d01-de40-73bdb8588e3c"
      },
      "execution_count": 24,
      "outputs": [
        {
          "output_type": "stream",
          "name": "stdout",
          "text": [
            "Text preprocessed:  ứng_dụng tệ không_thể tả nổi một tập_đoàn lớn như thế_mà làm_ăn chán\n",
            "('Tiêu cực', 0.9999929666519165)\n"
          ]
        }
      ]
    },
    {
      "cell_type": "code",
      "source": [
        "while(True):\n",
        "  text = input()\n",
        "  if text == \"end\":\n",
        "    break\n",
        "  else:\n",
        "    print(prediction(text, my_tokenizer, my_model)[0] + \"\\n\")"
      ],
      "metadata": {
        "id": "kgLM2b1U_GNU",
        "colab": {
          "base_uri": "https://localhost:8080/",
          "height": 356
        },
        "outputId": "f11f7f4d-7e5f-40b3-d2a3-9fb8a303cfca"
      },
      "execution_count": 25,
      "outputs": [
        {
          "output_type": "error",
          "ename": "KeyboardInterrupt",
          "evalue": "Interrupted by user",
          "traceback": [
            "\u001b[0;31m---------------------------------------------------------------------------\u001b[0m",
            "\u001b[0;31mKeyboardInterrupt\u001b[0m                         Traceback (most recent call last)",
            "\u001b[0;32m<ipython-input-25-97abf470c7cf>\u001b[0m in \u001b[0;36m<cell line: 1>\u001b[0;34m()\u001b[0m\n\u001b[1;32m      1\u001b[0m \u001b[0;32mwhile\u001b[0m\u001b[0;34m(\u001b[0m\u001b[0;32mTrue\u001b[0m\u001b[0;34m)\u001b[0m\u001b[0;34m:\u001b[0m\u001b[0;34m\u001b[0m\u001b[0;34m\u001b[0m\u001b[0m\n\u001b[0;32m----> 2\u001b[0;31m   \u001b[0mtext\u001b[0m \u001b[0;34m=\u001b[0m \u001b[0minput\u001b[0m\u001b[0;34m(\u001b[0m\u001b[0;34m)\u001b[0m\u001b[0;34m\u001b[0m\u001b[0;34m\u001b[0m\u001b[0m\n\u001b[0m\u001b[1;32m      3\u001b[0m   \u001b[0;32mif\u001b[0m \u001b[0mtext\u001b[0m \u001b[0;34m==\u001b[0m \u001b[0;34m\"end\"\u001b[0m\u001b[0;34m:\u001b[0m\u001b[0;34m\u001b[0m\u001b[0;34m\u001b[0m\u001b[0m\n\u001b[1;32m      4\u001b[0m     \u001b[0;32mbreak\u001b[0m\u001b[0;34m\u001b[0m\u001b[0;34m\u001b[0m\u001b[0m\n\u001b[1;32m      5\u001b[0m   \u001b[0;32melse\u001b[0m\u001b[0;34m:\u001b[0m\u001b[0;34m\u001b[0m\u001b[0;34m\u001b[0m\u001b[0m\n",
            "\u001b[0;32m/usr/local/lib/python3.10/dist-packages/ipykernel/kernelbase.py\u001b[0m in \u001b[0;36mraw_input\u001b[0;34m(self, prompt)\u001b[0m\n\u001b[1;32m    849\u001b[0m                 \u001b[0;34m\"raw_input was called, but this frontend does not support input requests.\"\u001b[0m\u001b[0;34m\u001b[0m\u001b[0;34m\u001b[0m\u001b[0m\n\u001b[1;32m    850\u001b[0m             )\n\u001b[0;32m--> 851\u001b[0;31m         return self._input_request(str(prompt),\n\u001b[0m\u001b[1;32m    852\u001b[0m             \u001b[0mself\u001b[0m\u001b[0;34m.\u001b[0m\u001b[0m_parent_ident\u001b[0m\u001b[0;34m,\u001b[0m\u001b[0;34m\u001b[0m\u001b[0;34m\u001b[0m\u001b[0m\n\u001b[1;32m    853\u001b[0m             \u001b[0mself\u001b[0m\u001b[0;34m.\u001b[0m\u001b[0m_parent_header\u001b[0m\u001b[0;34m,\u001b[0m\u001b[0;34m\u001b[0m\u001b[0;34m\u001b[0m\u001b[0m\n",
            "\u001b[0;32m/usr/local/lib/python3.10/dist-packages/ipykernel/kernelbase.py\u001b[0m in \u001b[0;36m_input_request\u001b[0;34m(self, prompt, ident, parent, password)\u001b[0m\n\u001b[1;32m    893\u001b[0m             \u001b[0;32mexcept\u001b[0m \u001b[0mKeyboardInterrupt\u001b[0m\u001b[0;34m:\u001b[0m\u001b[0;34m\u001b[0m\u001b[0;34m\u001b[0m\u001b[0m\n\u001b[1;32m    894\u001b[0m                 \u001b[0;31m# re-raise KeyboardInterrupt, to truncate traceback\u001b[0m\u001b[0;34m\u001b[0m\u001b[0;34m\u001b[0m\u001b[0m\n\u001b[0;32m--> 895\u001b[0;31m                 \u001b[0;32mraise\u001b[0m \u001b[0mKeyboardInterrupt\u001b[0m\u001b[0;34m(\u001b[0m\u001b[0;34m\"Interrupted by user\"\u001b[0m\u001b[0;34m)\u001b[0m \u001b[0;32mfrom\u001b[0m \u001b[0;32mNone\u001b[0m\u001b[0;34m\u001b[0m\u001b[0;34m\u001b[0m\u001b[0m\n\u001b[0m\u001b[1;32m    896\u001b[0m             \u001b[0;32mexcept\u001b[0m \u001b[0mException\u001b[0m \u001b[0;32mas\u001b[0m \u001b[0me\u001b[0m\u001b[0;34m:\u001b[0m\u001b[0;34m\u001b[0m\u001b[0;34m\u001b[0m\u001b[0m\n\u001b[1;32m    897\u001b[0m                 \u001b[0mself\u001b[0m\u001b[0;34m.\u001b[0m\u001b[0mlog\u001b[0m\u001b[0;34m.\u001b[0m\u001b[0mwarning\u001b[0m\u001b[0;34m(\u001b[0m\u001b[0;34m\"Invalid Message:\"\u001b[0m\u001b[0;34m,\u001b[0m \u001b[0mexc_info\u001b[0m\u001b[0;34m=\u001b[0m\u001b[0;32mTrue\u001b[0m\u001b[0;34m)\u001b[0m\u001b[0;34m\u001b[0m\u001b[0;34m\u001b[0m\u001b[0m\n",
            "\u001b[0;31mKeyboardInterrupt\u001b[0m: Interrupted by user"
          ]
        }
      ]
    }
  ]
}